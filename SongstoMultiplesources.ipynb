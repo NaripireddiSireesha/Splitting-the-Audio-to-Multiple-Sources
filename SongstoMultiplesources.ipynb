{
  "nbformat": 4,
  "nbformat_minor": 0,
  "metadata": {
    "colab": {
      "name": "SongstoMultiplesources",
      "provenance": [],
      "authorship_tag": "ABX9TyO5QWwed9wzAyv3rbu6J8Cv",
      "include_colab_link": true
    },
    "kernelspec": {
      "name": "python3",
      "display_name": "Python 3"
    },
    "accelerator": "GPU"
  },
  "cells": [
    {
      "cell_type": "markdown",
      "metadata": {
        "id": "view-in-github",
        "colab_type": "text"
      },
      "source": [
        "<a href=\"https://colab.research.google.com/github/NaripireddiSireesha/Splitting-the-Audio-to-Multiple-Sources/blob/master/SongstoMultiplesources.ipynb\" target=\"_parent\"><img src=\"https://colab.research.google.com/assets/colab-badge.svg\" alt=\"Open In Colab\"/></a>"
      ]
    },
    {
      "cell_type": "markdown",
      "metadata": {
        "id": "qMAH7-51Zc2c",
        "colab_type": "text"
      },
      "source": [
        "installing dependecies for the project\n"
      ]
    },
    {
      "cell_type": "code",
      "metadata": {
        "id": "OBMzV9yEZiB3",
        "colab_type": "code",
        "colab": {}
      },
      "source": [
        "!apk install ffmpeg\n",
        "!pip install librosa\n",
        "!pip install youtube-dl\n",
        "\n",
        "!pip install spleeter"
      ],
      "execution_count": 0,
      "outputs": []
    },
    {
      "cell_type": "markdown",
      "metadata": {
        "id": "vux4DrnSbBLS",
        "colab_type": "text"
      },
      "source": [
        "Importing dependecies"
      ]
    },
    {
      "cell_type": "code",
      "metadata": {
        "id": "mSbgBbe3bDlM",
        "colab_type": "code",
        "colab": {}
      },
      "source": [
        "import librosa\n",
        "import youtube_dl\n",
        "\n",
        "from IPython.display import Audio, display\n"
      ],
      "execution_count": 0,
      "outputs": []
    },
    {
      "cell_type": "markdown",
      "metadata": {
        "id": "_HL5ewPnb53T",
        "colab_type": "text"
      },
      "source": [
        "downloading video from youtube"
      ]
    },
    {
      "cell_type": "code",
      "metadata": {
        "id": "C-Me-Ahhb9Dy",
        "colab_type": "code",
        "colab": {}
      },
      "source": [
        "url = \"BPwZaQfoIbU\" #@param {type:\"string\"}\n",
        "embed_url =\"https://www.youtube.com/embed/BPwZaQfoIbU\""
      ],
      "execution_count": 0,
      "outputs": []
    },
    {
      "cell_type": "markdown",
      "metadata": {
        "id": "4FM0SVb6g7ER",
        "colab_type": "text"
      },
      "source": [
        "<iframe width=\"560\" height=\"315\" src=\"https://www.youtube.com/embed/BPwZaQfoIbU\" frameborder=\"0\" allow=\"accelerometer; autoplay; encrypted-media; gyroscope; picture-in-picture\" allowfullscreen></iframe>"
      ]
    },
    {
      "cell_type": "code",
      "metadata": {
        "id": "i2ON3qA6prgW",
        "colab_type": "code",
        "colab": {}
      },
      "source": [
        "ydl_args = {\n",
        "    'format': 'bestaudio/best',\n",
        "    'outtmpl': 'example_song.wav'\n",
        "    \n",
        "}"
      ],
      "execution_count": 0,
      "outputs": []
    },
    {
      "cell_type": "code",
      "metadata": {
        "id": "OQQcbk5-qNTl",
        "colab_type": "code",
        "colab": {}
      },
      "source": [
        "with youtube_dl.YoutubeDL(ydl_args) as ydl:\n",
        "      _ = ydl.download([url])\n"
      ],
      "execution_count": 0,
      "outputs": []
    },
    {
      "cell_type": "code",
      "metadata": {
        "id": "fbnr0O0LrJIP",
        "colab_type": "code",
        "colab": {}
      },
      "source": [
        "audio,rate= librosa.load('example_song.wav', sr=44100, mono=False)"
      ],
      "execution_count": 0,
      "outputs": []
    },
    {
      "cell_type": "markdown",
      "metadata": {
        "id": "mpXYHa8WscSX",
        "colab_type": "text"
      },
      "source": [
        "spliting the songs"
      ]
    },
    {
      "cell_type": "code",
      "metadata": {
        "id": "oba208MwsgcL",
        "colab_type": "code",
        "colab": {}
      },
      "source": [
        "!spleeter separate -i example_song.wav -p spleeter:4stems -o output"
      ],
      "execution_count": 0,
      "outputs": []
    }
  ]
}